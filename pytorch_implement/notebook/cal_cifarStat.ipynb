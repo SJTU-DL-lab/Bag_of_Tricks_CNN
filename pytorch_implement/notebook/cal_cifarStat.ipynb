{
 "cells": [
  {
   "cell_type": "code",
   "execution_count": 42,
   "metadata": {
    "collapsed": true
   },
   "outputs": [],
   "source": [
    "import torch\n",
    "from torchvision.datasets import CIFAR10\n",
    "import torchvision.transforms as transforms\n",
    "import numpy as np"
   ]
  },
  {
   "cell_type": "code",
   "execution_count": 50,
   "metadata": {},
   "outputs": [],
   "source": [
    "trans = transforms.Compose([\n",
    "        transforms.ColorJitter(0.4, 0.4, 0.4, 0.4),\n",
    "        transforms.ToTensor(),\n",
    "        transforms.Normalize([0.49139961, 0.48215843, 0.44653216], [0.24703216, 0.2434851 , 0.26158745])\n",
    "])"
   ]
  },
  {
   "cell_type": "code",
   "execution_count": 51,
   "metadata": {},
   "outputs": [],
   "source": [
    "dataset_train = CIFAR10('../../dataset/', train=True, transform=trans)\n",
    "dataset_test = CIFAR10('../../dataset/', train=False, transform=trans)"
   ]
  },
  {
   "cell_type": "code",
   "execution_count": 52,
   "metadata": {},
   "outputs": [
    {
     "data": {
      "text/plain": [
       "10000"
      ]
     },
     "execution_count": 52,
     "metadata": {},
     "output_type": "execute_result"
    }
   ],
   "source": [
    "len(dataset_test)"
   ]
  },
  {
   "cell_type": "code",
   "execution_count": 53,
   "metadata": {},
   "outputs": [
    {
     "data": {
      "text/plain": [
       "(tensor([[[-1.0526e+00, -1.3066e+00, -1.1955e+00,  ...,  5.1899e-01,\n",
       "            4.2375e-01,  3.6025e-01],\n",
       "          [-1.7352e+00, -1.9892e+00, -1.7035e+00,  ..., -3.6621e-02,\n",
       "           -1.0012e-01, -5.2496e-02],\n",
       "          [-1.5923e+00, -1.7352e+00, -1.2114e+00,  ..., -1.1600e-01,\n",
       "           -8.4246e-02, -2.5887e-01],\n",
       "          ...,\n",
       "          [ 1.3127e+00,  1.2016e+00,  1.1540e+00,  ...,  5.5074e-01,\n",
       "           -1.1002e+00, -1.1479e+00],\n",
       "          [ 8.6824e-01,  7.5712e-01,  9.6349e-01,  ...,  9.3174e-01,\n",
       "           -4.4936e-01, -6.7161e-01],\n",
       "          [ 8.2061e-01,  6.7774e-01,  8.5236e-01,  ...,  1.4397e+00,\n",
       "            4.0787e-01, -3.6621e-02]],\n",
       " \n",
       "         [[-9.8167e-01, -1.2394e+00, -1.2072e+00,  ...,  1.4575e-01,\n",
       "            3.3011e-02,  1.6905e-02],\n",
       "          [-1.6581e+00, -1.9802e+00, -1.8514e+00,  ..., -5.6291e-01,\n",
       "           -6.4344e-01, -5.7902e-01],\n",
       "          [-1.5937e+00, -1.8675e+00, -1.5454e+00,  ..., -6.2733e-01,\n",
       "           -6.2733e-01, -8.0450e-01],\n",
       "          ...,\n",
       "          [ 7.5778e-01,  4.8398e-01,  6.1283e-01,  ...,  1.6186e-01,\n",
       "           -1.4810e+00, -1.4326e+00],\n",
       "          [ 2.5849e-01,  7.9890e-04,  3.3902e-01,  ...,  4.0345e-01,\n",
       "           -9.8167e-01, -1.1266e+00],\n",
       "          [ 3.3902e-01,  9.7435e-02,  3.0681e-01,  ...,  9.8326e-01,\n",
       "           -7.9731e-02, -4.9849e-01]],\n",
       " \n",
       "         [[-7.6255e-01, -1.0324e+00, -1.0624e+00,  ..., -8.7935e-02,\n",
       "           -1.7788e-01, -1.6289e-01],\n",
       "          [-1.4072e+00, -1.7070e+00, -1.7070e+00,  ..., -8.8248e-01,\n",
       "           -9.5744e-01, -8.5250e-01],\n",
       "          [-1.3922e+00, -1.7070e+00, -1.5871e+00,  ..., -9.5744e-01,\n",
       "           -9.5744e-01, -1.0774e+00],\n",
       "          ...,\n",
       "          [-2.6783e-01, -1.1973e+00, -1.3172e+00,  ..., -6.5761e-01,\n",
       "           -1.6021e+00, -1.4072e+00],\n",
       "          [-2.6783e-01, -1.0774e+00, -1.2573e+00,  ..., -2.9782e-01,\n",
       "           -1.1973e+00, -1.1973e+00],\n",
       "          [ 3.1996e-02, -2.9782e-01, -4.0276e-01,  ...,  3.9179e-01,\n",
       "           -4.4773e-01, -6.2763e-01]]]), 6)"
      ]
     },
     "execution_count": 53,
     "metadata": {},
     "output_type": "execute_result"
    }
   ],
   "source": [
    "dataset_train[0]"
   ]
  },
  {
   "cell_type": "code",
   "execution_count": 23,
   "metadata": {},
   "outputs": [],
   "source": [
    "temp = torch.zeros((3, 32, 32))\n",
    "for data in dataset_train:\n",
    "    temp += data[0]"
   ]
  },
  {
   "cell_type": "code",
   "execution_count": 27,
   "metadata": {},
   "outputs": [],
   "source": [
    "temp = temp / len(dataset_train)"
   ]
  },
  {
   "cell_type": "code",
   "execution_count": 39,
   "metadata": {},
   "outputs": [
    {
     "data": {
      "text/plain": [
       "tensor([125.3069, 122.9504, 113.8657])"
      ]
     },
     "execution_count": 39,
     "metadata": {},
     "output_type": "execute_result"
    }
   ],
   "source": [
    "torch.sum(torch.sum(temp, 1), 1) / (32 * 32) * 255"
   ]
  },
  {
   "cell_type": "code",
   "execution_count": null,
   "metadata": {
    "collapsed": true
   },
   "outputs": [],
   "source": [
    "torch.sum"
   ]
  },
  {
   "cell_type": "code",
   "execution_count": null,
   "metadata": {
    "collapsed": true
   },
   "outputs": [],
   "source": [
    "torch.std()"
   ]
  },
  {
   "cell_type": "code",
   "execution_count": 31,
   "metadata": {},
   "outputs": [
    {
     "data": {
      "text/plain": [
       "torch.Size([3, 32])"
      ]
     },
     "execution_count": 31,
     "metadata": {},
     "output_type": "execute_result"
    }
   ],
   "source": [
    "torch.mean(temp, 2).size()"
   ]
  },
  {
   "cell_type": "code",
   "execution_count": 21,
   "metadata": {},
   "outputs": [
    {
     "data": {
      "text/plain": [
       "torch.Size([3, 32, 32])"
      ]
     },
     "execution_count": 21,
     "metadata": {},
     "output_type": "execute_result"
    }
   ],
   "source": [
    "dataset_train[0][0].size()"
   ]
  },
  {
   "cell_type": "code",
   "execution_count": 43,
   "metadata": {},
   "outputs": [],
   "source": [
    "mean = np.array([125.3069, 122.9504, 113.8657])\n",
    "std = np.array([62.9932, 62.0887, 66.7048])"
   ]
  },
  {
   "cell_type": "code",
   "execution_count": 46,
   "metadata": {},
   "outputs": [],
   "source": [
    "mean_norm = mean / 255\n",
    "std_norm = std / 255"
   ]
  },
  {
   "cell_type": "code",
   "execution_count": 47,
   "metadata": {},
   "outputs": [
    {
     "data": {
      "text/plain": [
       "array([0.49139961, 0.48215843, 0.44653216])"
      ]
     },
     "execution_count": 47,
     "metadata": {},
     "output_type": "execute_result"
    }
   ],
   "source": [
    "mean_norm"
   ]
  },
  {
   "cell_type": "code",
   "execution_count": 48,
   "metadata": {},
   "outputs": [
    {
     "data": {
      "text/plain": [
       "array([0.24703216, 0.2434851 , 0.26158745])"
      ]
     },
     "execution_count": 48,
     "metadata": {},
     "output_type": "execute_result"
    }
   ],
   "source": [
    "std_norm"
   ]
  }
 ],
 "metadata": {
  "kernelspec": {
   "display_name": "Python 3",
   "language": "python",
   "name": "python3"
  },
  "language_info": {
   "codemirror_mode": {
    "name": "ipython",
    "version": 3
   },
   "file_extension": ".py",
   "mimetype": "text/x-python",
   "name": "python",
   "nbconvert_exporter": "python",
   "pygments_lexer": "ipython3",
   "version": "3.6.3"
  }
 },
 "nbformat": 4,
 "nbformat_minor": 2
}
