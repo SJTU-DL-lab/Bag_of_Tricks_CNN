{
 "cells": [
  {
   "cell_type": "code",
   "execution_count": 1,
   "metadata": {},
   "outputs": [],
   "source": [
    "import sys"
   ]
  },
  {
   "cell_type": "code",
   "execution_count": 2,
   "metadata": {},
   "outputs": [],
   "source": [
    "%load_ext autoreload\n",
    "%autoreload 2\n",
    "sys.path.append('../')"
   ]
  },
  {
   "cell_type": "code",
   "execution_count": 3,
   "metadata": {},
   "outputs": [],
   "source": [
    "from models.resnet import Resnet50"
   ]
  },
  {
   "cell_type": "code",
   "execution_count": 4,
   "metadata": {},
   "outputs": [],
   "source": [
    "model = Resnet50(3, 100, 256, 'E')"
   ]
  },
  {
   "cell_type": "code",
   "execution_count": 5,
   "metadata": {},
   "outputs": [
    {
     "data": {
      "text/plain": [
       "Resnet50(\n",
       "  (downsample): Sequential(\n",
       "    (0): Conv2d(3, 32, kernel_size=(3, 3), stride=(2, 2), padding=(1, 1))\n",
       "    (1): BatchNorm2d(32, eps=1e-05, momentum=0.1, affine=True, track_running_stats=True)\n",
       "    (2): ReLU()\n",
       "    (3): Conv2d(32, 32, kernel_size=(3, 3), stride=(1, 1), padding=(1, 1))\n",
       "    (4): BatchNorm2d(32, eps=1e-05, momentum=0.1, affine=True, track_running_stats=True)\n",
       "    (5): ReLU()\n",
       "    (6): Conv2d(32, 64, kernel_size=(3, 3), stride=(1, 1), padding=(1, 1))\n",
       "    (7): BatchNorm2d(64, eps=1e-05, momentum=0.1, affine=True, track_running_stats=True)\n",
       "    (8): ReLU()\n",
       "    (9): MaxPool2d(kernel_size=3, stride=2, padding=1, dilation=1, ceil_mode=False)\n",
       "  )\n",
       "  (stages): Sequential(\n",
       "    (0): Bottleneck()\n",
       "    (1): Bottleneck()\n",
       "    (2): Bottleneck()\n",
       "    (3): Bottleneck()\n",
       "    (4): Bottleneck()\n",
       "    (5): Bottleneck()\n",
       "    (6): Bottleneck()\n",
       "    (7): Bottleneck()\n",
       "    (8): Bottleneck()\n",
       "    (9): Bottleneck()\n",
       "    (10): Bottleneck()\n",
       "    (11): Bottleneck()\n",
       "    (12): Bottleneck()\n",
       "    (13): Bottleneck()\n",
       "    (14): Bottleneck()\n",
       "    (15): Bottleneck()\n",
       "  )\n",
       "  (avg_pool): AvgPool2d(kernel_size=7, stride=1, padding=0)\n",
       "  (fc): Linear(in_features=8192, out_features=100, bias=True)\n",
       ")"
      ]
     },
     "execution_count": 5,
     "metadata": {},
     "output_type": "execute_result"
    }
   ],
   "source": [
    "model"
   ]
  },
  {
   "cell_type": "code",
   "execution_count": 6,
   "metadata": {},
   "outputs": [],
   "source": [
    "import torch"
   ]
  },
  {
   "cell_type": "code",
   "execution_count": 7,
   "metadata": {},
   "outputs": [],
   "source": [
    "test_input = torch.rand((1, 3, 256, 256))"
   ]
  },
  {
   "cell_type": "code",
   "execution_count": 8,
   "metadata": {},
   "outputs": [
    {
     "data": {
      "text/plain": [
       "tensor([[ 0.1595,  0.3018,  0.2575, -0.1792, -0.1123,  0.4610, -0.1364, -0.3805,\n",
       "          0.5063, -0.2305,  0.0501,  0.0196,  0.0474, -0.2650, -0.0573, -0.1090,\n",
       "         -0.1190, -0.0025,  0.5647, -0.5574,  0.1121, -0.0793, -0.0291,  0.1100,\n",
       "          0.1709, -0.3832,  0.1513, -0.4288, -0.1767,  0.0250,  0.2012, -0.3126,\n",
       "         -0.4727, -0.1663, -0.5635, -0.0795, -0.0974, -0.4117,  0.2501,  0.0918,\n",
       "         -0.3552, -0.0086, -0.1013,  0.2208, -0.3109, -0.3008,  0.4719, -0.0669,\n",
       "         -0.2923,  0.2718, -0.0407, -0.0513,  0.1329,  0.4357,  0.3562,  0.1533,\n",
       "         -0.1871, -0.0677,  0.2398,  0.0973,  0.1844,  0.4601,  0.0013, -0.2623,\n",
       "         -0.3228, -0.1793, -0.3149,  0.1480,  0.2168,  0.0861, -0.1251, -0.3066,\n",
       "         -0.1390,  0.0020, -0.0296, -0.1280, -0.3135, -0.0556,  0.4826,  0.0575,\n",
       "          0.1873,  0.4004, -0.0644,  0.1201,  0.3313, -0.0137, -0.1763,  0.2747,\n",
       "         -0.1507, -0.0315,  0.3943, -0.3001, -0.1077,  0.0708,  0.0300, -0.1750,\n",
       "         -0.1238,  0.0582,  0.0309,  0.2732]], grad_fn=<ThAddmmBackward>)"
      ]
     },
     "execution_count": 8,
     "metadata": {},
     "output_type": "execute_result"
    }
   ],
   "source": [
    "model(test_input)"
   ]
  },
  {
   "cell_type": "code",
   "execution_count": null,
   "metadata": {},
   "outputs": [],
   "source": []
  },
  {
   "cell_type": "code",
   "execution_count": null,
   "metadata": {},
   "outputs": [],
   "source": []
  },
  {
   "cell_type": "code",
   "execution_count": null,
   "metadata": {},
   "outputs": [],
   "source": []
  }
 ],
 "metadata": {
  "kernelspec": {
   "display_name": "Python 3",
   "language": "python",
   "name": "python3"
  },
  "language_info": {
   "codemirror_mode": {
    "name": "ipython",
    "version": 3
   },
   "file_extension": ".py",
   "mimetype": "text/x-python",
   "name": "python",
   "nbconvert_exporter": "python",
   "pygments_lexer": "ipython3",
   "version": "3.6.5"
  }
 },
 "nbformat": 4,
 "nbformat_minor": 2
}
